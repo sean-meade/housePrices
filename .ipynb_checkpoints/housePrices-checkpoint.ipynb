{
 "cells": [
  {
   "cell_type": "markdown",
   "metadata": {},
   "source": [
    "# House Prices: Advanced Regression Techniques\n",
    "\n",
    "Link to competition: https://www.kaggle.com/c/house-prices-advanced-regression-techniques#\n"
   ]
  },
  {
   "cell_type": "markdown",
   "metadata": {},
   "source": [
    "## Evaluation:\n",
    "\n",
    "### Goal: \n",
    "Predict sale prices for each house. Predict the value of the SalePrice variable for each Id in the test set.\n",
    "\n",
    "### Metric:\n",
    "Evaluated on the Root-Mean-Squared-Error (RMSE) between the logarithm of the predicted value and that of the observed sales price. (Taking logs means that errors in predicting expensive houses and cheap houses will affect the result equally.)\n",
    "\n",
    "### Submission File Format:\n",
    "The file should contain a header and have the following format:"
   ]
  },
  {
   "cell_type": "code",
   "execution_count": 2,
   "metadata": {},
   "outputs": [],
   "source": [
    "import numpy as np"
   ]
  },
  {
   "cell_type": "code",
   "execution_count": 6,
   "metadata": {},
   "outputs": [
    {
     "data": {
      "text/plain": [
       "array([['Id', 'SalesPrice'],\n",
       "       ['1461', '169000.1'],\n",
       "       ['1462', '187724.1233'],\n",
       "       ['1463', '175221']], dtype='<U11')"
      ]
     },
     "execution_count": 6,
     "metadata": {},
     "output_type": "execute_result"
    }
   ],
   "source": [
    "x = np.array([['Id', 'SalesPrice'], [1461, 169000.1], [1462, 187724.1233], [1463, 175221]])\n",
    "x"
   ]
  },
  {
   "cell_type": "markdown",
   "metadata": {},
   "source": [
    "# Questions to answer\n",
    "\n",
    "1. What does the data set look like?\n",
    "2. What is the Root-Mean-Squared-Error (RMSE)?\n",
    "3. How do you get the logarithm value?\n",
    "4. What does the logarithm value do?\n",
    "5. Should I do the Tutorials?\n",
    "    5.1. If yes which ones?\n",
    "6. Do I understand the FAQs?"
   ]
  }
 ],
 "metadata": {
  "kernelspec": {
   "display_name": "Python 3",
   "language": "python",
   "name": "python3"
  },
  "language_info": {
   "codemirror_mode": {
    "name": "ipython",
    "version": 3
   },
   "file_extension": ".py",
   "mimetype": "text/x-python",
   "name": "python",
   "nbconvert_exporter": "python",
   "pygments_lexer": "ipython3",
   "version": "3.7.6"
  }
 },
 "nbformat": 4,
 "nbformat_minor": 4
}
